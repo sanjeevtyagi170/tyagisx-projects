{
 "cells": [
  {
   "cell_type": "markdown",
   "metadata": {
    "application/vnd.databricks.v1+cell": {
     "cellMetadata": {},
     "inputWidgets": {},
     "nuid": "72be7dd5-95f3-49e0-9c0b-20338a3e0083",
     "showTitle": false,
     "title": ""
    }
   },
   "source": [
    "#Bronze Layer"
   ]
  },
  {
   "cell_type": "code",
   "execution_count": 0,
   "metadata": {
    "application/vnd.databricks.v1+cell": {
     "cellMetadata": {},
     "inputWidgets": {},
     "nuid": "bffc79ac-e918-4289-9935-8c6f3514a59b",
     "showTitle": false,
     "title": ""
    }
   },
   "outputs": [],
   "source": [
    "spark.readStream\n",
    ".format(\"cloudfiles\")\n",
    ".option(\"cloudFiles.format\",\"json\")"
   ]
  },
  {
   "cell_type": "markdown",
   "metadata": {
    "application/vnd.databricks.v1+cell": {
     "cellMetadata": {},
     "inputWidgets": {},
     "nuid": "0c1833e8-d09e-491f-9dc0-215fc84b3136",
     "showTitle": false,
     "title": ""
    }
   },
   "source": [
    "# Silver Layer"
   ]
  },
  {
   "cell_type": "code",
   "execution_count": 0,
   "metadata": {
    "application/vnd.databricks.v1+cell": {
     "cellMetadata": {},
     "inputWidgets": {},
     "nuid": "a2481c26-23c1-4988-a055-21d9231f62ce",
     "showTitle": false,
     "title": ""
    }
   },
   "outputs": [],
   "source": [
    "%sql\n",
    "-------------------- Data Ingestion from Bronze Table-------------------\n",
    "CREATE OR REFRESH STREAMING LIVE TABLE inhome_silver\n",
    "------------Below are all data constraints or Data quality rules-----------------\n",
    "(\n",
    "    CONSTRAINT valid_date EXPECT (metrics_date > \"2021-01-01\") ON VIOLATION FAIL UPDATE, --Sample Filtering\n",
    "    CONSTRAINT valid_date EXPECT (metrics_date > \"2021-01-01\") ON VIOLATION DROP ROW, --Sample Filtering\n",
    "    CONSTRAINT valid_id EXPECT (line_id IS NOT NULL) ON VIOLATION FAIL UPDATE,\n",
    "    CONSTRAINT valid_operation EXPECT (operation IS NOT NULL) ON VIOLATION DROP ROW, -- For CDC\n",
    "    CONSTRAINT valid_name EXPECT (deviceid IS NOT NULL or operation = \"DELETE\"), -- For CDC\n",
    "    CONSTRAINT valid_address EXPECT (\n",
    "    (address IS NOT NULL and \n",
    "    city IS NOT NULL and \n",
    "    state IS NOT NULL and \n",
    "    zip_code IS NOT NULL) or\n",
    "    operation = \"DELETE\"), -- For CDC\n",
    "    CONSTRAINT valid_email EXPECT (\n",
    "    rlike(email, '^([a-zA-Z0-9_\\\\-\\\\.]+)@([a-zA-Z0-9_\\\\-\\\\.]+)\\\\.([a-zA-Z]{2,5})$') or \n",
    "    operation = \"DELETE\") ON VIOLATION DROP ROW\n",
    "    )\n",
    "------------------------------------------------------------------------------------\n",
    "COMMENT \"Append only data with 3 data quality checks\"\n",
    "TBLPROPERTIES (\"quality\" = \"silver\")\n",
    "AS SELECT timestamp(order_timestamp) AS order_timestamp, --* EXCEPT (order_timestamp, source_file, _rescued_data)\n",
    "FROM STREAM(LIVE.inhome_bronze)"
   ]
  },
  {
   "cell_type": "markdown",
   "metadata": {
    "application/vnd.databricks.v1+cell": {
     "cellMetadata": {},
     "inputWidgets": {},
     "nuid": "b7e69904-7975-4029-b080-5d0837167691",
     "showTitle": false,
     "title": ""
    }
   },
   "source": [
    "# Gold Layer"
   ]
  },
  {
   "cell_type": "code",
   "execution_count": 0,
   "metadata": {
    "application/vnd.databricks.v1+cell": {
     "cellMetadata": {},
     "inputWidgets": {},
     "nuid": "1460270a-20f3-4020-95be-125fe96bfc17",
     "showTitle": false,
     "title": ""
    }
   },
   "outputs": [],
   "source": [
    "%sql\n",
    "CREATE OR REFRESH LIVE TABLE inhome_gold\n",
    "AS \n",
    "SELECT *, \"x\" as aggregation_logic\n",
    "FROM STREAM(LIVE.inhome_silver)"
   ]
  },
  {
   "cell_type": "markdown",
   "metadata": {
    "application/vnd.databricks.v1+cell": {
     "cellMetadata": {},
     "inputWidgets": {},
     "nuid": "947994da-e464-4d4e-a099-be938221a4f1",
     "showTitle": false,
     "title": ""
    }
   },
   "source": [
    "# Quaratine Records"
   ]
  },
  {
   "cell_type": "code",
   "execution_count": 0,
   "metadata": {
    "application/vnd.databricks.v1+cell": {
     "cellMetadata": {
      "byteLimit": 2048000,
      "implicitDf": true,
      "rowLimit": 10000
     },
     "inputWidgets": {},
     "nuid": "60d5129b-110f-4093-a010-2ea312c2d799",
     "showTitle": false,
     "title": ""
    }
   },
   "outputs": [],
   "source": [
    "%sql\n",
    "CREATE OR REFRESH STREAMING LIVE TABLE quarantine\n",
    "(\n",
    "  CONSTRAINT quaratine EXPECT (NOT(id > 0)) ON VIOLATION DROP ROW\n",
    ")\n",
    "AS SELECT *\n",
    "FROM STREAM(<table_name>)"
   ]
  },
  {
   "cell_type": "code",
   "execution_count": 0,
   "metadata": {
    "application/vnd.databricks.v1+cell": {
     "cellMetadata": {
      "byteLimit": 2048000,
      "rowLimit": 10000
     },
     "inputWidgets": {},
     "nuid": "107d6e2b-50d1-4414-84ed-564940ad11f1",
     "showTitle": false,
     "title": ""
    }
   },
   "outputs": [],
   "source": []
  },
  {
   "cell_type": "code",
   "execution_count": 0,
   "metadata": {
    "application/vnd.databricks.v1+cell": {
     "cellMetadata": {
      "byteLimit": 2048000,
      "rowLimit": 10000
     },
     "inputWidgets": {},
     "nuid": "132478c4-5412-4807-b72b-b5c9f189e0c3",
     "showTitle": false,
     "title": ""
    }
   },
   "outputs": [],
   "source": []
  },
  {
   "cell_type": "code",
   "execution_count": 0,
   "metadata": {
    "application/vnd.databricks.v1+cell": {
     "cellMetadata": {
      "byteLimit": 2048000,
      "rowLimit": 10000
     },
     "inputWidgets": {},
     "nuid": "bf5ba0dd-4d8b-4d47-8e3f-ef5f04858678",
     "showTitle": false,
     "title": ""
    }
   },
   "outputs": [],
   "source": []
  }
 ],
 "metadata": {
  "application/vnd.databricks.v1+notebook": {
   "dashboards": [],
   "language": "python",
   "notebookMetadata": {
    "mostRecentlyExecutedCommandWithImplicitDF": {
     "commandId": 3619330987790653,
     "dataframes": [
      "_sqldf"
     ]
    },
    "pythonIndentUnit": 4
   },
   "notebookName": "autoloader_stream_cable_modem_kpis",
   "widgets": {}
  }
 },
 "nbformat": 4,
 "nbformat_minor": 0
}
