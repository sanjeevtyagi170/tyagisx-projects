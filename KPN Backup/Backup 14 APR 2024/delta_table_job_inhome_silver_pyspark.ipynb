{
 "cells": [
  {
   "cell_type": "code",
   "execution_count": 0,
   "metadata": {
    "application/vnd.databricks.v1+cell": {
     "cellMetadata": {
      "byteLimit": 2048000,
      "rowLimit": 10000
     },
     "inputWidgets": {},
     "nuid": "4ff25133-70ba-44a5-9ae6-efc876a6cf52",
     "showTitle": false,
     "title": ""
    }
   },
   "outputs": [],
   "source": [
    "from pyspark.sql.functions import col, current_timestamp, lit, to_timestamp, regexp_extract\n",
    "from pyspark.sql.types import StructField,StructType, StringType,FloatType,LongType,TimestampType\n",
    "\n",
    "bronze_source_table = \"kpn_test.network.bronze_cablemodem_dt\"\n",
    "\n",
    "# ############################## TABLE CREATION ################################\n",
    "\n",
    "cablemodem_bronze_schema = StructType([\n",
    "    StructField(\"WM_FLAG\", StringType(), True),\n",
    "    StructField(\"CCER_DN\", LongType(), True),\n",
    "    StructField(\"CER_DN\", LongType(), True),\n",
    "    StructField(\"DOWNSTREAM_NAME\", StringType(), True),\n",
    "    StructField(\"HUB\", StringType(), True),\n",
    "    StructField(\"MAC_ADDR\", StringType(), True),\n",
    "    StructField(\"METRICS_DATE\", StringType(), True),\n",
    "    StructField(\"RX_POWER_DN\", FloatType(), True),\n",
    "    StructField(\"SNR_DN\", FloatType(), True)\n",
    "])\n",
    "df = spark.createDataFrame([], cablemodem_bronze_schema)\n",
    "df.write.mode(\"overwrite\").saveAsTable(\"kpn_test.network.bronze_cablemodem_dt\")\n",
    "\n",
    "cablemodem_dt_schema = StructType([\n",
    "    StructField(\"HUB\", StringType()),\n",
    "    StructField(\"MAC_ADDR\", StringType()),\n",
    "    StructField(\"METRICS_DATE\", TimestampType()),\n",
    "    StructField(\"DOWNSTREAM_NAME\", StringType()),\n",
    "    StructField(\"CCER_DN\", LongType()),\n",
    "    StructField(\"CER_DN\", LongType()),\n",
    "    StructField(\"SNR_DN\", FloatType()),\n",
    "    StructField(\"RX_POWER_DN\", FloatType()),\n",
    "    StructField(\"CRTD_DTTM\", TimestampType()),\n",
    "    StructField(\"CRTD_BY\", StringType())\n",
    "])\n",
    "\n",
    "df = spark.createDataFrame([], cablemodem_dt_schema)\n",
    "df.write.mode(\"overwrite\").saveAsTable(\"kpn_test.network.cablemodem_dt\")\n",
    "\n",
    "rejection_cablemodem_dt_schema = StructType([\n",
    "    StructField(\"HUB\", StringType()),\n",
    "    StructField(\"MAC_ADDR\", StringType()),\n",
    "    StructField(\"METRICS_DATE\", TimestampType()),\n",
    "    StructField(\"DOWNSTREAM_NAME\", StringType()),\n",
    "    StructField(\"CCER_DN\", LongType()),\n",
    "    StructField(\"CER_DN\", LongType()),\n",
    "    StructField(\"SNR_DN\", FloatType()),\n",
    "    StructField(\"RX_POWER_DN\", FloatType()),\n",
    "    StructField(\"DQ_STATUS\", StringType()),\n",
    "    StructField(\"CRTD_DTTM\", TimestampType()),\n",
    "    StructField(\"CRTD_BY\", StringType())\n",
    "])\n",
    "\n",
    "df = spark.createDataFrame([], rejection_cablemodem_dt_schema)\n",
    "df.write.mode(\"overwrite\").saveAsTable(\"kpn_test.network.rejection_cablemodem_dt\")"
   ]
  },
  {
   "cell_type": "code",
   "execution_count": 0,
   "metadata": {
    "application/vnd.databricks.v1+cell": {
     "cellMetadata": {
      "byteLimit": 2048000,
      "rowLimit": 10000
     },
     "inputWidgets": {},
     "nuid": "22bfe7c3-cd20-431e-946e-230b085dee0c",
     "showTitle": false,
     "title": ""
    }
   },
   "outputs": [
    {
     "output_type": "stream",
     "name": "stdout",
     "output_type": "stream",
     "text": [
      "+---+--------+------------+---------------+------+-------+------+-----------+---------+-------+\n|HUB|MAC_ADDR|METRICS_DATE|DOWNSTREAM_NAME|CER_DN|CCER_DN|SNR_DN|RX_POWER_DN|CRTD_DTTM|CRTD_BY|\n+---+--------+------------+---------------+------+-------+------+-----------+---------+-------+\n+---+--------+------------+---------------+------+-------+------+-----------+---------+-------+\n\nNone 0\n+---+--------+------------+---------------+------+-------+------+-----------+---------+---------+-------+\n|HUB|MAC_ADDR|METRICS_DATE|DOWNSTREAM_NAME|CER_DN|CCER_DN|SNR_DN|RX_POWER_DN|DQ_STATUS|CRTD_DTTM|CRTD_BY|\n+---+--------+------------+---------------+------+-------+------+-----------+---------+---------+-------+\n+---+--------+------------+---------------+------+-------+------+-----------+---------+---------+-------+\n\n"
     ]
    },
    {
     "output_type": "execute_result",
     "data": {
      "text/plain": [
       "(None, 0)"
      ]
     },
     "execution_count": 24,
     "metadata": {},
     "output_type": "execute_result"
    }
   ],
   "source": [
    "# Flag Records for Curation (Step 1)\n",
    "df=spark.sql(f\"SELECT * FROM {bronze_source_table}\").where(col(\"wm_flag\")==\"N\").withColumn(\"wm_flag\", lit(\"NT\"))\n",
    "\n",
    "########## GOOD RECORDS ##########\n",
    "# Define Data Quality Filters (Reusable for both good and bad tables)\n",
    "\n",
    "\n",
    "good_condition=(col(\"MAC_ADDR\") != \"\") & (regexp_extract(col(\"METRICS_DATE\"), r\"^[0-9]{4}-[0-9]{2}-[0-9]{2} [0-9]{2}:[0-9]{2}:[0-9]{2}$\", 0) == col(\"METRICS_DATE\"))\n",
    "bad_condition=((col(\"MAC_ADDR\") == \"\") | ~(col(\"METRICS_DATE\").rlike('^[0-9]{4}-[0-9]{2}-[0-9]{2} [0-9]{2}:[0-9]{2}')))\n",
    "\n",
    "def dq_filters(df,col):\n",
    "    return df.where(good_condition)\n",
    "\n",
    "df_cablemode_good=dq_filters(df,good_condition)\n",
    "\n",
    "# Insert into Curated Table (Good & Bad)\n",
    "# def insert_curated_table(df, table_name, dq_status=\"\"):\n",
    "df_cablemode_good=df_cablemode_good.select(\n",
    "    col(\"HUB\"),\n",
    "    col(\"MAC_ADDR\"),\n",
    "    to_timestamp(col(\"METRICS_DATE\"), \"yyyy-MM-dd HH:mm:ss\").alias(\"METRICS_DATE\"),\n",
    "    col(\"DOWNSTREAM_NAME\"),\n",
    "    col(\"CER_DN\").cast(\"bigint\"),\n",
    "    col(\"CCER_DN\").cast(\"bigint\"),\n",
    "    col(\"SNR_DN\").cast(\"float\"),\n",
    "    col(\"RX_POWER_DN\").cast(\"float\"),\n",
    "    current_timestamp().alias(\"CRTD_DTTM\"),\n",
    "    lit(\"data_engineer_group\").alias(\"CRTD_BY\")\n",
    ")\n",
    "# df_cablemode_good.write.mode(\"append\").saveAsTable(\"kpn_test.network.cablemodem_dt\")\n",
    "print(df_cablemode_good.show(2),df_cablemode_good.count())\n",
    "\n",
    "########## BAD RECORDS ##########\n",
    "df_cablemode_bad=dq_filters(df,bad_condition)\n",
    "\n",
    "# Insert into Curated Table (Good & Bad)\n",
    "# def insert_curated_table(df, table_name, dq_status=\"\"):\n",
    "df_cablemode_bad=df_cablemode_bad.select(\n",
    "    col(\"HUB\"),\n",
    "    col(\"MAC_ADDR\"),\n",
    "    to_timestamp(col(\"METRICS_DATE\"), \"yyyy-MM-dd HH:mm:ss\").alias(\"METRICS_DATE\"),\n",
    "    col(\"DOWNSTREAM_NAME\"),\n",
    "    col(\"CER_DN\").cast(\"bigint\"),\n",
    "    col(\"CCER_DN\").cast(\"bigint\"),\n",
    "    col(\"SNR_DN\").cast(\"float\"),\n",
    "    col(\"RX_POWER_DN\").cast(\"float\"),\n",
    "    lit(\"O\").alias(\"DQ_STATUS\"),\n",
    "    current_timestamp().alias(\"CRTD_DTTM\"),\n",
    "    lit(\"data_engineer_group\").alias(\"CRTD_BY\")\n",
    ")\n",
    "# df_cablemode_bad.write.mode(\"append\").saveAsTable(\"kpn_test.network.rejection_cablemodem_dt\")\n",
    "df_cablemode_bad.show(2),df_cablemode_bad.count()"
   ]
  },
  {
   "cell_type": "code",
   "execution_count": 0,
   "metadata": {
    "application/vnd.databricks.v1+cell": {
     "cellMetadata": {
      "byteLimit": 2048000,
      "implicitDf": true,
      "rowLimit": 10000
     },
     "inputWidgets": {},
     "nuid": "8349f493-3ae8-44e1-8992-c43fa1da20a3",
     "showTitle": false,
     "title": ""
    }
   },
   "outputs": [
    {
     "output_type": "display_data",
     "data": {
      "text/html": [
       "<style scoped>\n",
       "  .ansiout {\n",
       "    display: block;\n",
       "    unicode-bidi: embed;\n",
       "    white-space: pre-wrap;\n",
       "    word-wrap: break-word;\n",
       "    word-break: break-all;\n",
       "    font-family: \"Menlo\", \"Monaco\", \"Consolas\", \"Ubuntu Mono\", \"Source Code Pro\", monospace;\n",
       "    font-size: 13px;\n",
       "    color: #555;\n",
       "    margin-left: 4px;\n",
       "    line-height: 19px;\n",
       "  }\n",
       "</style>"
      ]
     },
     "metadata": {
      "application/vnd.databricks.v1+output": {
       "arguments": {},
       "data": "",
       "errorSummary": "Cancelled",
       "errorTraceType": "html",
       "metadata": {},
       "type": "ipynbError"
      }
     },
     "output_type": "display_data"
    }
   ],
   "source": [
    "%sql\n",
    "-- truncate table kpn_test.network.cablemodem_dt;\n",
    "-- insert into kpn_test.network.bronze_cablemodem_dt\n",
    "-- select * from kpn_bronze.network.cablemodem_dt;\n",
    "-- select * from kpn_test.network.bronze_cablemodem_dt limit 100;"
   ]
  },
  {
   "cell_type": "code",
   "execution_count": 0,
   "metadata": {
    "application/vnd.databricks.v1+cell": {
     "cellMetadata": {
      "byteLimit": 2048000,
      "rowLimit": 10000
     },
     "inputWidgets": {},
     "nuid": "06c72222-f93e-4d94-ae3a-277c3ccad5ea",
     "showTitle": false,
     "title": ""
    }
   },
   "outputs": [
    {
     "output_type": "execute_result",
     "data": {
      "text/plain": [
       "pyspark.sql.column.Column"
      ]
     },
     "execution_count": 11,
     "metadata": {},
     "output_type": "execute_result"
    }
   ],
   "source": [
    "type(good_condition)"
   ]
  },
  {
   "cell_type": "code",
   "execution_count": 0,
   "metadata": {
    "application/vnd.databricks.v1+cell": {
     "cellMetadata": {},
     "inputWidgets": {},
     "nuid": "72fcd488-f6b0-43ed-8b16-9782eb8f1fe2",
     "showTitle": false,
     "title": ""
    }
   },
   "outputs": [],
   "source": [
    "def update_flag(table_name,column_name,new_value,old_vale):\n",
    "    spark.sql('UPDATE {table_name} SET {column_name} = {new_value} WHERE {column_name} = {old_vale}')"
   ]
  },
  {
   "cell_type": "code",
   "execution_count": 0,
   "metadata": {
    "application/vnd.databricks.v1+cell": {
     "cellMetadata": {},
     "inputWidgets": {},
     "nuid": "7a264f4f-e61f-4723-b254-0e19d691ff54",
     "showTitle": false,
     "title": ""
    }
   },
   "outputs": [],
   "source": [
    "# update_flag('kpn_test.network.bronze_cablemodem_dt','wm_flag','NT','N')\n",
    "# update_flag('kpn_test.network.rejection_cablemodem_dt','DQ_STATUS','R','O')"
   ]
  }
 ],
 "metadata": {
  "application/vnd.databricks.v1+notebook": {
   "dashboards": [],
   "language": "python",
   "notebookMetadata": {
    "mostRecentlyExecutedCommandWithImplicitDF": {
     "commandId": 198554805986508,
     "dataframes": [
      "_sqldf"
     ]
    },
    "pythonIndentUnit": 4
   },
   "notebookName": "delta_table_job_inhome_silver_pyspark",
   "widgets": {}
  }
 },
 "nbformat": 4,
 "nbformat_minor": 0
}
