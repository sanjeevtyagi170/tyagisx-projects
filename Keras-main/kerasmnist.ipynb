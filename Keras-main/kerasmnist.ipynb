{
 "cells": [
  {
   "cell_type": "code",
   "execution_count": 1,
   "id": "fb00a80a",
   "metadata": {
    "_cell_guid": "b1076dfc-b9ad-4769-8c92-a6c4dae69d19",
    "_uuid": "8f2839f25d086af736a60e9eeb907d3b93b6e0e5",
    "execution": {
     "iopub.execute_input": "2023-07-01T08:14:23.303468Z",
     "iopub.status.busy": "2023-07-01T08:14:23.302094Z",
     "iopub.status.idle": "2023-07-01T08:14:34.368880Z",
     "shell.execute_reply": "2023-07-01T08:14:34.367423Z"
    },
    "papermill": {
     "duration": 11.075369,
     "end_time": "2023-07-01T08:14:34.372190",
     "exception": false,
     "start_time": "2023-07-01T08:14:23.296821",
     "status": "completed"
    },
    "tags": []
   },
   "outputs": [
    {
     "name": "stderr",
     "output_type": "stream",
     "text": [
      "/opt/conda/lib/python3.10/site-packages/tensorflow_io/python/ops/__init__.py:98: UserWarning: unable to load libtensorflow_io_plugins.so: unable to open file: libtensorflow_io_plugins.so, from paths: ['/opt/conda/lib/python3.10/site-packages/tensorflow_io/python/ops/libtensorflow_io_plugins.so']\n",
      "caused by: ['/opt/conda/lib/python3.10/site-packages/tensorflow_io/python/ops/libtensorflow_io_plugins.so: undefined symbol: _ZN3tsl6StatusC1EN10tensorflow5error4CodeESt17basic_string_viewIcSt11char_traitsIcEENS_14SourceLocationE']\n",
      "  warnings.warn(f\"unable to load libtensorflow_io_plugins.so: {e}\")\n",
      "/opt/conda/lib/python3.10/site-packages/tensorflow_io/python/ops/__init__.py:104: UserWarning: file system plugins are not loaded: unable to open file: libtensorflow_io.so, from paths: ['/opt/conda/lib/python3.10/site-packages/tensorflow_io/python/ops/libtensorflow_io.so']\n",
      "caused by: ['/opt/conda/lib/python3.10/site-packages/tensorflow_io/python/ops/libtensorflow_io.so: undefined symbol: _ZTVN10tensorflow13GcsFileSystemE']\n",
      "  warnings.warn(f\"file system plugins are not loaded: {e}\")\n"
     ]
    }
   ],
   "source": [
    "import numpy as np # linear algebra\n",
    "import pandas as pd # data processing, CSV file I/O (e.g. pd.read_csv)\n",
    "import tensorflow as tf\n",
    "from tensorflow.keras import datasets,layers, models"
   ]
  },
  {
   "cell_type": "code",
   "execution_count": 2,
   "id": "0e96fdd0",
   "metadata": {
    "execution": {
     "iopub.execute_input": "2023-07-01T08:14:34.380635Z",
     "iopub.status.busy": "2023-07-01T08:14:34.379769Z",
     "iopub.status.idle": "2023-07-01T08:14:36.417890Z",
     "shell.execute_reply": "2023-07-01T08:14:36.416530Z"
    },
    "papermill": {
     "duration": 2.045164,
     "end_time": "2023-07-01T08:14:36.420671",
     "exception": false,
     "start_time": "2023-07-01T08:14:34.375507",
     "status": "completed"
    },
    "tags": []
   },
   "outputs": [
    {
     "name": "stdout",
     "output_type": "stream",
     "text": [
      "Downloading data from https://storage.googleapis.com/tensorflow/tf-keras-datasets/mnist.npz\n",
      "11490434/11490434 [==============================] - 1s 0us/step\n"
     ]
    }
   ],
   "source": [
    "mnist=datasets.mnist\n",
    "(x_train, y_train), (x_test, y_test)=mnist.load_data()\n",
    "x_train,x_test=x_train/255.0, x_test/255.0\n",
    "model=models.Sequential()\n",
    "model.add(layers.Flatten(input_shape=(28,28)))\n",
    "model.add(layers.Dense(512,activation='relu'))\n",
    "model.add(layers.Dropout(0.2))\n",
    "model.add(layers.Dense(10,activation='softmax'))\n",
    "model.compile(optimizer='adam',loss='sparse_categorical_crossentropy',metrics=[\"accuracy\"])"
   ]
  },
  {
   "cell_type": "code",
   "execution_count": 3,
   "id": "cf2fce2f",
   "metadata": {
    "execution": {
     "iopub.execute_input": "2023-07-01T08:14:36.431261Z",
     "iopub.status.busy": "2023-07-01T08:14:36.430856Z",
     "iopub.status.idle": "2023-07-01T08:15:59.554726Z",
     "shell.execute_reply": "2023-07-01T08:15:59.553396Z"
    },
    "papermill": {
     "duration": 83.236622,
     "end_time": "2023-07-01T08:15:59.661643",
     "exception": false,
     "start_time": "2023-07-01T08:14:36.425021",
     "status": "completed"
    },
    "tags": []
   },
   "outputs": [
    {
     "name": "stdout",
     "output_type": "stream",
     "text": [
      "Epoch 1/5\n",
      "1875/1875 [==============================] - 13s 6ms/step - loss: 0.2192 - accuracy: 0.9353\n",
      "Epoch 2/5\n",
      "1875/1875 [==============================] - 12s 6ms/step - loss: 0.0970 - accuracy: 0.9705\n",
      "Epoch 3/5\n",
      "1875/1875 [==============================] - 12s 6ms/step - loss: 0.0709 - accuracy: 0.9782\n",
      "Epoch 4/5\n",
      "1875/1875 [==============================] - 12s 6ms/step - loss: 0.0534 - accuracy: 0.9832\n",
      "Epoch 5/5\n",
      "1875/1875 [==============================] - 11s 6ms/step - loss: 0.0435 - accuracy: 0.9862\n"
     ]
    },
    {
     "data": {
      "text/plain": [
       "<keras.callbacks.History at 0x7de4a22c43d0>"
      ]
     },
     "execution_count": 3,
     "metadata": {},
     "output_type": "execute_result"
    }
   ],
   "source": [
    "model.fit(x_train,y_train,epochs=5)"
   ]
  },
  {
   "cell_type": "code",
   "execution_count": 4,
   "id": "c1c0e1fc",
   "metadata": {
    "execution": {
     "iopub.execute_input": "2023-07-01T08:15:59.878839Z",
     "iopub.status.busy": "2023-07-01T08:15:59.878392Z",
     "iopub.status.idle": "2023-07-01T08:16:01.198182Z",
     "shell.execute_reply": "2023-07-01T08:16:01.196879Z"
    },
    "papermill": {
     "duration": 1.431242,
     "end_time": "2023-07-01T08:16:01.201280",
     "exception": false,
     "start_time": "2023-07-01T08:15:59.770038",
     "status": "completed"
    },
    "tags": []
   },
   "outputs": [
    {
     "name": "stdout",
     "output_type": "stream",
     "text": [
      "313/313 [==============================] - 1s 3ms/step - loss: 0.0630 - accuracy: 0.9811\n"
     ]
    },
    {
     "data": {
      "text/plain": [
       "[0.0630364716053009, 0.9811000227928162]"
      ]
     },
     "execution_count": 4,
     "metadata": {},
     "output_type": "execute_result"
    }
   ],
   "source": [
    "model.evaluate(x_test,y_test)"
   ]
  }
 ],
 "metadata": {
  "kernelspec": {
   "display_name": "Python 3",
   "language": "python",
   "name": "python3"
  },
  "language_info": {
   "codemirror_mode": {
    "name": "ipython",
    "version": 3
   },
   "file_extension": ".py",
   "mimetype": "text/x-python",
   "name": "python",
   "nbconvert_exporter": "python",
   "pygments_lexer": "ipython3",
   "version": "3.10.10"
  },
  "papermill": {
   "default_parameters": {},
   "duration": 118.270113,
   "end_time": "2023-07-01T08:16:04.684722",
   "environment_variables": {},
   "exception": null,
   "input_path": "__notebook__.ipynb",
   "output_path": "__notebook__.ipynb",
   "parameters": {},
   "start_time": "2023-07-01T08:14:06.414609",
   "version": "2.4.0"
  }
 },
 "nbformat": 4,
 "nbformat_minor": 5
}
