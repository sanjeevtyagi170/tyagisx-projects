{
 "cells": [
  {
   "cell_type": "code",
   "execution_count": 1,
   "id": "6f9169f3",
   "metadata": {
    "_cell_guid": "b1076dfc-b9ad-4769-8c92-a6c4dae69d19",
    "_uuid": "8f2839f25d086af736a60e9eeb907d3b93b6e0e5",
    "execution": {
     "iopub.execute_input": "2023-06-29T16:54:00.056759Z",
     "iopub.status.busy": "2023-06-29T16:54:00.054882Z",
     "iopub.status.idle": "2023-06-29T16:54:15.478702Z",
     "shell.execute_reply": "2023-06-29T16:54:15.477340Z"
    },
    "papermill": {
     "duration": 15.432433,
     "end_time": "2023-06-29T16:54:15.481743",
     "exception": false,
     "start_time": "2023-06-29T16:54:00.049310",
     "status": "completed"
    },
    "tags": []
   },
   "outputs": [
    {
     "name": "stdout",
     "output_type": "stream",
     "text": [
      "Collecting openai\r\n",
      "  Downloading openai-0.27.8-py3-none-any.whl (73 kB)\r\n",
      "\u001b[2K     \u001b[90m━━━━━━━━━━━━━━━━━━━━━━━━━━━━━━━━━━━━━━━━\u001b[0m \u001b[32m73.6/73.6 kB\u001b[0m \u001b[31m1.8 MB/s\u001b[0m eta \u001b[36m0:00:00\u001b[0m\r\n",
      "\u001b[?25hRequirement already satisfied: requests>=2.20 in /opt/conda/lib/python3.10/site-packages (from openai) (2.28.2)\r\n",
      "Requirement already satisfied: tqdm in /opt/conda/lib/python3.10/site-packages (from openai) (4.64.1)\r\n",
      "Requirement already satisfied: aiohttp in /opt/conda/lib/python3.10/site-packages (from openai) (3.8.4)\r\n",
      "Requirement already satisfied: charset-normalizer<4,>=2 in /opt/conda/lib/python3.10/site-packages (from requests>=2.20->openai) (2.1.1)\r\n",
      "Requirement already satisfied: idna<4,>=2.5 in /opt/conda/lib/python3.10/site-packages (from requests>=2.20->openai) (3.4)\r\n",
      "Requirement already satisfied: urllib3<1.27,>=1.21.1 in /opt/conda/lib/python3.10/site-packages (from requests>=2.20->openai) (1.26.15)\r\n",
      "Requirement already satisfied: certifi>=2017.4.17 in /opt/conda/lib/python3.10/site-packages (from requests>=2.20->openai) (2023.5.7)\r\n",
      "Requirement already satisfied: attrs>=17.3.0 in /opt/conda/lib/python3.10/site-packages (from aiohttp->openai) (23.1.0)\r\n",
      "Requirement already satisfied: multidict<7.0,>=4.5 in /opt/conda/lib/python3.10/site-packages (from aiohttp->openai) (6.0.4)\r\n",
      "Requirement already satisfied: async-timeout<5.0,>=4.0.0a3 in /opt/conda/lib/python3.10/site-packages (from aiohttp->openai) (4.0.2)\r\n",
      "Requirement already satisfied: yarl<2.0,>=1.0 in /opt/conda/lib/python3.10/site-packages (from aiohttp->openai) (1.9.1)\r\n",
      "Requirement already satisfied: frozenlist>=1.1.1 in /opt/conda/lib/python3.10/site-packages (from aiohttp->openai) (1.3.3)\r\n",
      "Requirement already satisfied: aiosignal>=1.1.2 in /opt/conda/lib/python3.10/site-packages (from aiohttp->openai) (1.3.1)\r\n",
      "Installing collected packages: openai\r\n",
      "Successfully installed openai-0.27.8\r\n",
      "\u001b[33mWARNING: Running pip as the 'root' user can result in broken permissions and conflicting behaviour with the system package manager. It is recommended to use a virtual environment instead: https://pip.pypa.io/warnings/venv\u001b[0m\u001b[33m\r\n",
      "\u001b[0m"
     ]
    }
   ],
   "source": [
    "import numpy as np\n",
    "import pandas as pd\n",
    "import random\n",
    "import os\n",
    "!pip install openai\n",
    "import openai"
   ]
  },
  {
   "cell_type": "code",
   "execution_count": 2,
   "id": "163919d7",
   "metadata": {
    "execution": {
     "iopub.execute_input": "2023-06-29T16:54:15.491802Z",
     "iopub.status.busy": "2023-06-29T16:54:15.490817Z",
     "iopub.status.idle": "2023-06-29T16:54:15.497099Z",
     "shell.execute_reply": "2023-06-29T16:54:15.495828Z"
    },
    "papermill": {
     "duration": 0.014016,
     "end_time": "2023-06-29T16:54:15.499656",
     "exception": false,
     "start_time": "2023-06-29T16:54:15.485640",
     "status": "completed"
    },
    "tags": []
   },
   "outputs": [],
   "source": [
    "openai.api_key=os.getenv(\"OPENAI_API_KEY\")"
   ]
  },
  {
   "cell_type": "code",
   "execution_count": 3,
   "id": "188ef5fe",
   "metadata": {
    "execution": {
     "iopub.execute_input": "2023-06-29T16:54:15.509044Z",
     "iopub.status.busy": "2023-06-29T16:54:15.508585Z",
     "iopub.status.idle": "2023-06-29T16:54:15.514054Z",
     "shell.execute_reply": "2023-06-29T16:54:15.512595Z"
    },
    "papermill": {
     "duration": 0.013195,
     "end_time": "2023-06-29T16:54:15.516613",
     "exception": false,
     "start_time": "2023-06-29T16:54:15.503418",
     "status": "completed"
    },
    "tags": []
   },
   "outputs": [],
   "source": [
    "# response=openai.Completion.create(model=\"text-davinci-003\",prompt=\"\",temperature=0.7,max_tokens=256,top_p=1,frequency_penalty=0,presence_penalty=0)\n",
    "# print(response[\"choices\"][0][\"text\"])"
   ]
  },
  {
   "cell_type": "code",
   "execution_count": null,
   "id": "ec6083e6",
   "metadata": {
    "papermill": {
     "duration": 0.003414,
     "end_time": "2023-06-29T16:54:15.523641",
     "exception": false,
     "start_time": "2023-06-29T16:54:15.520227",
     "status": "completed"
    },
    "tags": []
   },
   "outputs": [],
   "source": []
  },
  {
   "cell_type": "code",
   "execution_count": null,
   "id": "959416f2",
   "metadata": {
    "papermill": {
     "duration": 0.003149,
     "end_time": "2023-06-29T16:54:15.530265",
     "exception": false,
     "start_time": "2023-06-29T16:54:15.527116",
     "status": "completed"
    },
    "tags": []
   },
   "outputs": [],
   "source": []
  },
  {
   "cell_type": "code",
   "execution_count": null,
   "id": "cc329c9d",
   "metadata": {
    "papermill": {
     "duration": 0.003118,
     "end_time": "2023-06-29T16:54:15.536830",
     "exception": false,
     "start_time": "2023-06-29T16:54:15.533712",
     "status": "completed"
    },
    "tags": []
   },
   "outputs": [],
   "source": []
  }
 ],
 "metadata": {
  "kernelspec": {
   "display_name": "Python 3",
   "language": "python",
   "name": "python3"
  },
  "language_info": {
   "codemirror_mode": {
    "name": "ipython",
    "version": 3
   },
   "file_extension": ".py",
   "mimetype": "text/x-python",
   "name": "python",
   "nbconvert_exporter": "python",
   "pygments_lexer": "ipython3",
   "version": "3.10.10"
  },
  "papermill": {
   "default_parameters": {},
   "duration": 31.765383,
   "end_time": "2023-06-29T16:54:19.062386",
   "environment_variables": {},
   "exception": null,
   "input_path": "__notebook__.ipynb",
   "output_path": "__notebook__.ipynb",
   "parameters": {},
   "start_time": "2023-06-29T16:53:47.297003",
   "version": "2.4.0"
  }
 },
 "nbformat": 4,
 "nbformat_minor": 5
}
