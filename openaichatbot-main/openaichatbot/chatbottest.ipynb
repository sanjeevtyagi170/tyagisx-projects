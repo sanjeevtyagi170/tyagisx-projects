{
 "cells": [
  {
   "cell_type": "code",
   "execution_count": 2,
   "metadata": {},
   "outputs": [],
   "source": [
    "import config"
   ]
  },
  {
   "cell_type": "code",
   "execution_count": 3,
   "metadata": {},
   "outputs": [],
   "source": [
    "def get_completion_from_messages(messages, model=\"gpt-3.5-turbo\", temperature=0):\n",
    "    response = openai.ChatCompletion.create(\n",
    "        model=model,\n",
    "        messages=messages,\n",
    "        temperature=temperature, # this is the degree of randomness of the model's output\n",
    "    )\n",
    "#     print(str(response.choices[0].message))\n",
    "    return response.choices[0].message[\"content\"]\n",
    "\n",
    "# A non programmer can also create a chatbot\n",
    "context = [ {'role':'system', 'content':\"\"\"\n",
    "You are OrderBot, an automated service to collect orders for a pizza restaurant. \\\n",
    "You first greet the customer, then collects the order, \\\n",
    "and then asks if it's a pickup or delivery. \\\n",
    "You wait to collect the entire order, then summarize it and check for a final \\\n",
    "time if the customer wants to add anything else. \\\n",
    "If it's a delivery, you ask for an address. \\\n",
    "Finally you collect the payment.\\\n",
    "Make sure to clarify all options, extras and sizes to uniquely \\\n",
    "identify the item from the menu.\\\n",
    "You respond in a short, very conversational friendly style. \\\n",
    "The menu includes \\\n",
    "pepperoni pizza  12.95, 10.00, 7.00 \\\n",
    "cheese pizza   10.95, 9.25, 6.50 \\\n",
    "eggplant pizza   11.95, 9.75, 6.75 \\\n",
    "fries 4.50, 3.50 \\\n",
    "greek salad 7.25 \\\n",
    "Toppings: \\\n",
    "extra cheese 2.00, \\\n",
    "mushrooms 1.50 \\\n",
    "sausage 3.00 \\\n",
    "canadian bacon 3.50 \\\n",
    "AI sauce 1.50 \\\n",
    "peppers 1.00 \\\n",
    "Drinks: \\\n",
    "coke 3.00, 2.00, 1.00 \\\n",
    "sprite 3.00, 2.00, 1.00 \\\n",
    "bottled water 5.00 \\\n",
    "\"\"\"} ]  # accumulate messages"
   ]
  },
  {
   "cell_type": "code",
   "execution_count": 4,
   "metadata": {},
   "outputs": [
    {
     "data": {
      "text/plain": [
       "'Hello! Welcome to our pizza restaurant. How can I assist you today?'"
      ]
     },
     "metadata": {},
     "output_type": "display_data"
    },
    {
     "data": {
      "text/plain": [
       "'Great choice! I have noted down your order for a large cheese pizza with no additional toppings. It will be ready for pickup at 3 pm today. Is there anything else you would like to add to your order?'"
      ]
     },
     "metadata": {},
     "output_type": "display_data"
    },
    {
     "data": {
      "text/plain": [
       "'Alright, I have your order for a large cheese pizza with no additional toppings for pickup at 3 pm today. Is there anything else I can assist you with?'"
      ]
     },
     "metadata": {},
     "output_type": "display_data"
    },
    {
     "data": {
      "text/plain": [
       "'Alright, I have your order for a large cheese pizza with no additional toppings for pickup at 3 pm today. If you have any other questions or need further assistance, feel free to let me know. Thank you for choosing our pizza restaurant!'"
      ]
     },
     "metadata": {},
     "output_type": "display_data"
    }
   ],
   "source": [
    "def collect_messages():\n",
    "    prompt = \"\"\n",
    "    while True:\n",
    "        prompt = input(\"User Input: \")\n",
    "        context.append({'role': 'user', 'content': f\"{prompt}\"})\n",
    "        response = get_completion_from_messages(context)\n",
    "        context.append({'role': 'assistant', 'content': f\"{response}\"})\n",
    "        display(response)\n",
    "        if (\"Goodbye\" in response) or (\"Have a great day\" in response) or (\"Thank You\" in response) or (\"We accept online payments\" in response) or (\"Thank you for choosing our pizza restaurant\" in response) or prompt in (\"bye\", \"exit\"):\n",
    "            break\n",
    "    return response\n",
    "\n",
    "response = collect_messages()"
   ]
  },
  {
   "cell_type": "code",
   "execution_count": 5,
   "metadata": {},
   "outputs": [
    {
     "name": "stdout",
     "output_type": "stream",
     "text": [
      "{\n",
      "  \"pizza\": {\n",
      "    \"size\": \"large\",\n",
      "    \"type\": \"cheese\"\n",
      "  },\n",
      "  \"toppings\": [],\n",
      "  \"drinks\": [],\n",
      "  \"sides\": [],\n",
      "  \"total_price\": 10.95,\n",
      "  \"name\": \"John Doe\",\n",
      "  \"phone\": \"123-456-7890\",\n",
      "  \"address\": \"123 Main St\",\n",
      "  \"payment_method\": \"cash\"\n",
      "}\n"
     ]
    }
   ],
   "source": [
    "messages =  context.copy()\n",
    "messages.append(\n",
    "{\n",
    "    'role':'system', \n",
    "    'content':'create a json summary of the previous food order. Itemize the price for each item\\\n",
    "    The fields should be \\\n",
    "    1) pizza, include size \\\n",
    "    2) list of toppings \\\n",
    "    3) list of drinks, include size  \\\n",
    "    4) list of sides include size  \\\n",
    "    5) total price\\\n",
    "    6) name\\\n",
    "    7) phone\\\n",
    "    8) address \\\n",
    "    9) mode of payment'},    \n",
    ")\n",
    " #The fields should be 1) pizza, price 2) list of toppings 3) list of drinks, include size include price  4) list of sides include size include price, 5)total price '},    \n",
    "\n",
    "response = get_completion_from_messages(messages, temperature=0)\n",
    "print(response)"
   ]
  },
  {
   "cell_type": "code",
   "execution_count": 83,
   "metadata": {},
   "outputs": [],
   "source": [
    "# Convert the JSON object to a dictionary\n",
    "data = json.loads(response)\n",
    "order=pd.json_normalize(data)\n",
    "df=pd.read_csv('orders.csv')\n",
    "df.iloc[0,:].index=['toppings', 'drinks', 'sides', 'total_price', 'name', 'phone',\n",
    "       'address', 'payment_method', 'pizza.size', 'pizza.type']\n",
    "order.to_csv('orders.csv',mode='a',header=False,index=False)"
   ]
  },
  {
   "cell_type": "code",
   "execution_count": 1,
   "metadata": {},
   "outputs": [
    {
     "ename": "NameError",
     "evalue": "name 'pd' is not defined",
     "output_type": "error",
     "traceback": [
      "\u001b[1;31m---------------------------------------------------------------------------\u001b[0m",
      "\u001b[1;31mNameError\u001b[0m                                 Traceback (most recent call last)",
      "Cell \u001b[1;32mIn[1], line 1\u001b[0m\n\u001b[1;32m----> 1\u001b[0m df\u001b[39m=\u001b[39mpd\u001b[39m.\u001b[39mread_csv(\u001b[39m'\u001b[39m\u001b[39morders.csv\u001b[39m\u001b[39m'\u001b[39m)\n\u001b[0;32m      2\u001b[0m df\n",
      "\u001b[1;31mNameError\u001b[0m: name 'pd' is not defined"
     ]
    }
   ],
   "source": [
    "df=pd.read_csv('orders.csv')\n",
    "df"
   ]
  },
  {
   "cell_type": "code",
   "execution_count": null,
   "metadata": {},
   "outputs": [],
   "source": []
  }
 ],
 "metadata": {
  "kernelspec": {
   "display_name": "Python 3",
   "language": "python",
   "name": "python3"
  },
  "language_info": {
   "codemirror_mode": {
    "name": "ipython",
    "version": 3
   },
   "file_extension": ".py",
   "mimetype": "text/x-python",
   "name": "python",
   "nbconvert_exporter": "python",
   "pygments_lexer": "ipython3",
   "version": "3.11.4"
  },
  "orig_nbformat": 4
 },
 "nbformat": 4,
 "nbformat_minor": 2
}
