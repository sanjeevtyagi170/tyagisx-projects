{
  "cells": [
    {
      "cell_type": "markdown",
      "metadata": {
        "colab_type": "text",
        "id": "KPXHZpput5Xf"
      },
      "source": [
        "# Autograd with tensors"
      ]
    },
    {
      "cell_type": "code",
      "execution_count": 1,
      "metadata": {
        "colab": {},
        "colab_type": "code",
        "id": "p-C6nLqAt98a"
      },
      "outputs": [],
      "source": [
        "import torch"
      ]
    },
    {
      "cell_type": "code",
      "execution_count": null,
      "metadata": {
        "colab": {},
        "colab_type": "code",
        "id": "WRSfe0Lut952"
      },
      "outputs": [],
      "source": [
        "w = torch.randn(4,3,requires_grad=True)"
      ]
    },
    {
      "cell_type": "code",
      "execution_count": 3,
      "metadata": {
        "colab": {
          "base_uri": "https://localhost:8080/",
          "height": 86
        },
        "colab_type": "code",
        "id": "O-QcOYO1tkOn",
        "outputId": "5380d46f-6008-44cf-8d6c-4a124ca4003c"
      },
      "outputs": [
        {
          "data": {
            "text/plain": [
              "tensor([[-0.7589, -0.3603,  0.7678],\n",
              "        [-1.5837,  0.3327, -0.1244],\n",
              "        [-1.9141, -0.2149, -0.7534],\n",
              "        [-0.0313,  0.0106,  0.7625]], requires_grad=True)"
            ]
          },
          "execution_count": 3,
          "metadata": {
            "tags": []
          },
          "output_type": "execute_result"
        }
      ],
      "source": [
        "w"
      ]
    },
    {
      "cell_type": "code",
      "execution_count": 4,
      "metadata": {
        "colab": {
          "base_uri": "https://localhost:8080/",
          "height": 86
        },
        "colab_type": "code",
        "id": "FuWckF34t8X1",
        "outputId": "7b14a9f5-24ee-4241-90ac-8726637bc1a9"
      },
      "outputs": [
        {
          "data": {
            "text/plain": [
              "tensor([[-0.7589, -0.3603,  0.7678],\n",
              "        [-1.5837,  0.3327, -0.1244],\n",
              "        [-1.9141, -0.2149, -0.7534],\n",
              "        [-0.0313,  0.0106,  0.7625]])"
            ]
          },
          "execution_count": 4,
          "metadata": {
            "tags": []
          },
          "output_type": "execute_result"
        }
      ],
      "source": [
        "w.requires_grad_(False)\n",
        "w"
      ]
    },
    {
      "cell_type": "code",
      "execution_count": 5,
      "metadata": {
        "colab": {
          "base_uri": "https://localhost:8080/",
          "height": 86
        },
        "colab_type": "code",
        "id": "SkQCjuabt8Vh",
        "outputId": "a03b6492-5ea1-4c8f-bfdb-5bcc8c1134ae"
      },
      "outputs": [
        {
          "data": {
            "text/plain": [
              "tensor([[-0.7589, -0.3603,  0.7678],\n",
              "        [-1.5837,  0.3327, -0.1244],\n",
              "        [-1.9141, -0.2149, -0.7534],\n",
              "        [-0.0313,  0.0106,  0.7625]], requires_grad=True)"
            ]
          },
          "execution_count": 5,
          "metadata": {
            "tags": []
          },
          "output_type": "execute_result"
        }
      ],
      "source": [
        "w.requires_grad_(True)"
      ]
    },
    {
      "cell_type": "code",
      "execution_count": 6,
      "metadata": {
        "colab": {
          "base_uri": "https://localhost:8080/",
          "height": 86
        },
        "colab_type": "code",
        "id": "rvggJC5wt8Ti",
        "outputId": "7d27e729-a390-40e0-949b-fd31625ea7af"
      },
      "outputs": [
        {
          "name": "stdout",
          "output_type": "stream",
          "text": [
            "tensor([[0.4682, 0.6975, 2.1551],\n",
            "        [0.2052, 1.3948, 0.8831],\n",
            "        [0.1475, 0.8066, 0.4707],\n",
            "        [0.9692, 1.0106, 2.1436]], grad_fn=<ExpBackward>)\n"
          ]
        }
      ],
      "source": [
        "y = torch.exp(w)\n",
        "print(y)"
      ]
    },
    {
      "cell_type": "code",
      "execution_count": 7,
      "metadata": {
        "colab": {
          "base_uri": "https://localhost:8080/",
          "height": 34
        },
        "colab_type": "code",
        "id": "PEg2PQiXt8RR",
        "outputId": "76d87492-92a1-457b-c0bd-862afffbeb3f"
      },
      "outputs": [
        {
          "name": "stdout",
          "output_type": "stream",
          "text": [
            "<ExpBackward object at 0x7f0572fabd68>\n"
          ]
        }
      ],
      "source": [
        "print(y.grad_fn)"
      ]
    },
    {
      "cell_type": "code",
      "execution_count": 8,
      "metadata": {
        "colab": {
          "base_uri": "https://localhost:8080/",
          "height": 34
        },
        "colab_type": "code",
        "id": "QZopoC8It8O7",
        "outputId": "e78bead5-a3de-4cd5-db32-a119654d06f5"
      },
      "outputs": [
        {
          "name": "stdout",
          "output_type": "stream",
          "text": [
            "tensor(0.9460, grad_fn=<MeanBackward0>)\n"
          ]
        }
      ],
      "source": [
        "outp = y.mean()\n",
        "print(outp)"
      ]
    },
    {
      "cell_type": "code",
      "execution_count": 9,
      "metadata": {
        "colab": {
          "base_uri": "https://localhost:8080/",
          "height": 34
        },
        "colab_type": "code",
        "id": "ManI6K2rt8HD",
        "outputId": "602e0aae-12a7-45b0-c571-c636d95973c3"
      },
      "outputs": [
        {
          "name": "stdout",
          "output_type": "stream",
          "text": [
            "None\n"
          ]
        }
      ],
      "source": [
        "print(w.grad)"
      ]
    },
    {
      "cell_type": "code",
      "execution_count": null,
      "metadata": {
        "colab": {},
        "colab_type": "code",
        "id": "tbQpKI4it8EJ"
      },
      "outputs": [],
      "source": [
        "outp.backward()"
      ]
    },
    {
      "cell_type": "code",
      "execution_count": 11,
      "metadata": {
        "colab": {
          "base_uri": "https://localhost:8080/",
          "height": 86
        },
        "colab_type": "code",
        "id": "Qq3KkSGvt8B_",
        "outputId": "4dba9d3c-cdc0-4cf4-c6e3-b3be848bfd46"
      },
      "outputs": [
        {
          "name": "stdout",
          "output_type": "stream",
          "text": [
            "tensor([[0.0390, 0.0581, 0.1796],\n",
            "        [0.0171, 0.1162, 0.0736],\n",
            "        [0.0123, 0.0672, 0.0392],\n",
            "        [0.0808, 0.0842, 0.1786]])\n"
          ]
        }
      ],
      "source": [
        "print(w.grad)"
      ]
    },
    {
      "cell_type": "code",
      "execution_count": 12,
      "metadata": {
        "colab": {
          "base_uri": "https://localhost:8080/",
          "height": 86
        },
        "colab_type": "code",
        "id": "SgOzb_QMt7_-",
        "outputId": "5a1ed4fc-8ed9-4ec7-d2fa-79d2c602f12e"
      },
      "outputs": [
        {
          "name": "stdout",
          "output_type": "stream",
          "text": [
            "tensor([[-0.7589, -0.3603,  0.7678],\n",
            "        [-1.5837,  0.3327, -0.1244],\n",
            "        [-1.9141, -0.2149, -0.7534],\n",
            "        [-0.0313,  0.0106,  0.7625]])\n"
          ]
        }
      ],
      "source": [
        "print(w.detach())"
      ]
    },
    {
      "cell_type": "code",
      "execution_count": 15,
      "metadata": {
        "colab": {
          "base_uri": "https://localhost:8080/",
          "height": 51
        },
        "colab_type": "code",
        "id": "zVpIjfJ9t79q",
        "outputId": "3419f477-9b15-4b92-b06b-934513fc7177"
      },
      "outputs": [
        {
          "name": "stdout",
          "output_type": "stream",
          "text": [
            "True\n",
            "False\n"
          ]
        }
      ],
      "source": [
        "print(outp.requires_grad)\n",
        "\n",
        "with torch.no_grad():\n",
        "  outp = (w+y).mean()\n",
        "  \n",
        "print(outp.requires_grad)  "
      ]
    },
    {
      "cell_type": "code",
      "execution_count": null,
      "metadata": {
        "colab": {},
        "colab_type": "code",
        "id": "_zJ-R2vvt77R"
      },
      "outputs": [],
      "source": []
    },
    {
      "cell_type": "code",
      "execution_count": null,
      "metadata": {
        "colab": {},
        "colab_type": "code",
        "id": "uXriXeRvt75Z"
      },
      "outputs": [],
      "source": []
    },
    {
      "cell_type": "code",
      "execution_count": null,
      "metadata": {
        "colab": {},
        "colab_type": "code",
        "id": "J89G4qJjt73R"
      },
      "outputs": [],
      "source": []
    },
    {
      "cell_type": "code",
      "execution_count": null,
      "metadata": {
        "colab": {},
        "colab_type": "code",
        "id": "j6LeAdwRt71B"
      },
      "outputs": [],
      "source": []
    },
    {
      "cell_type": "code",
      "execution_count": null,
      "metadata": {
        "colab": {},
        "colab_type": "code",
        "id": "cg0PVIylt7y1"
      },
      "outputs": [],
      "source": []
    },
    {
      "cell_type": "code",
      "execution_count": null,
      "metadata": {
        "colab": {},
        "colab_type": "code",
        "id": "ZO2B3MaSt7we"
      },
      "outputs": [],
      "source": []
    },
    {
      "cell_type": "code",
      "execution_count": null,
      "metadata": {
        "colab": {},
        "colab_type": "code",
        "id": "oOG09FTEt7uO"
      },
      "outputs": [],
      "source": []
    },
    {
      "cell_type": "code",
      "execution_count": null,
      "metadata": {
        "colab": {},
        "colab_type": "code",
        "id": "EIOQXJu-t7sK"
      },
      "outputs": [],
      "source": []
    },
    {
      "cell_type": "code",
      "execution_count": null,
      "metadata": {
        "colab": {},
        "colab_type": "code",
        "id": "bkjm3Hp3t7p-"
      },
      "outputs": [],
      "source": []
    }
  ],
  "metadata": {
    "colab": {
      "collapsed_sections": [],
      "name": "Autograd_with_tensors.ipynb",
      "provenance": [],
      "version": "0.3.2"
    },
    "kernelspec": {
      "display_name": "Python 3",
      "name": "python3"
    },
    "language_info": {
      "codemirror_mode": {
        "name": "ipython",
        "version": 3
      },
      "file_extension": ".py",
      "mimetype": "text/x-python",
      "name": "python",
      "nbconvert_exporter": "python",
      "pygments_lexer": "ipython3",
      "version": "3.10.8"
    }
  },
  "nbformat": 4,
  "nbformat_minor": 0
}
